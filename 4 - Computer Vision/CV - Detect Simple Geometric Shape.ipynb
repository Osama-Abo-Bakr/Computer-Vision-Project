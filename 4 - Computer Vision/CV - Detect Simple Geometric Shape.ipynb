{
 "cells": [
  {
   "cell_type": "code",
   "execution_count": 1,
   "id": "a1c9b663",
   "metadata": {},
   "outputs": [],
   "source": [
    "import cv2"
   ]
  },
  {
   "cell_type": "code",
   "execution_count": 3,
   "id": "1ec36a4f",
   "metadata": {},
   "outputs": [],
   "source": [
    "image = cv2.imread(r'D:\\Courses language programming\\7_Computer Vision\\Computer Vision - Full Course\\5-Object Detection\\1.png')\n",
    "image = cv2.resize(image, (800, 600))\n",
    "image_gray = cv2.cvtColor(image, cv2.COLOR_BGR2GRAY)\n",
    "_, thresh = cv2.threshold(image_gray, 240, 255, cv2.THRESH_BINARY)\n",
    "\n",
    "contours, _ = cv2.findContours(thresh, cv2.RETR_TREE, cv2.CHAIN_APPROX_NONE)[-2:]\n",
    "\n",
    "\n",
    "cv2.imshow('image', image)\n",
    "\n",
    "for contour in contours:\n",
    "    approx = cv2.approxPolyDP(contour, 0.01 * cv2.arcLength(contour, True), True)\n",
    "    cv2.drawContours(image, [approx], 0, (0, 0, 0), 5)\n",
    "    x = approx.ravel()[0]\n",
    "    y = approx.ravel()[1]\n",
    "\n",
    "    if len(approx) == 3:\n",
    "        cv2.putText(image, 'Triangle', (x, y-10), cv2.FONT_ITALIC, 0.5, (0, 0, 0), 2)\n",
    "\n",
    "    elif len(approx) == 4:\n",
    "        x1, y2, w, h = cv2.boundingRect(approx)\n",
    "        aspec_ratio = float(w) / h\n",
    "        if 1.05 >= aspec_ratio >= 0.95:\n",
    "            cv2.putText(image, 'Square', (x, y-10), cv2.FONT_ITALIC, 0.5, (0, 0, 0), 2)\n",
    "        else: cv2.putText(image, 'Rectangle', (x, y-10), cv2.FONT_ITALIC, 0.5, (0, 0, 0), 2)\n",
    "\n",
    "    elif len(approx) == 5:\n",
    "        cv2.putText(image, 'Pentagon', (x, y-10), cv2.FONT_ITALIC, 0.5, (0, 0, 0), 2)\n",
    "\n",
    "    elif len(approx) == 10: cv2.putText(image, 'Star', (x, y-10), cv2.FONT_ITALIC, 0.5, (0, 0, 0), 2)\n",
    "    else: cv2.putText(image, 'Circle', (x, y-10), cv2.FONT_ITALIC, 0.5, (0, 0, 0), 2)\n",
    "\n",
    "cv2.imshow('new_image', image)\n",
    "cv2.waitKey(0)\n",
    "cv2.destroyAllWindows()"
   ]
  },
  {
   "cell_type": "code",
   "execution_count": null,
   "id": "423a1abc",
   "metadata": {},
   "outputs": [],
   "source": []
  }
 ],
 "metadata": {
  "kernelspec": {
   "display_name": "Python 3 (ipykernel)",
   "language": "python",
   "name": "python3"
  },
  "language_info": {
   "codemirror_mode": {
    "name": "ipython",
    "version": 3
   },
   "file_extension": ".py",
   "mimetype": "text/x-python",
   "name": "python",
   "nbconvert_exporter": "python",
   "pygments_lexer": "ipython3",
   "version": "3.10.9"
  }
 },
 "nbformat": 4,
 "nbformat_minor": 5
}
