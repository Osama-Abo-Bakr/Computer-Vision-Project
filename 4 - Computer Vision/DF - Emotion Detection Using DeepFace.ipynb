{
 "cells": [
  {
   "cell_type": "code",
   "execution_count": 1,
   "id": "96ef4982",
   "metadata": {},
   "outputs": [],
   "source": [
    "import cv2\n",
    "from deepface import DeepFace"
   ]
  },
  {
   "cell_type": "code",
   "execution_count": null,
   "id": "04a4dcef",
   "metadata": {},
   "outputs": [],
   "source": [
    "# model = DeepFace.build_model(\"Facenet512\")\n",
    "\n",
    "cap = cv2.VideoCapture(0)\n",
    "\n",
    "while True:\n",
    "    # Capture frame-by-frame\n",
    "    ret, frame = cap.read()\n",
    "\n",
    "    # Perform face detection and recognition\n",
    "    result = DeepFace.analyze(frame, actions=[\"emotion\", \"age\", \"gender\", \"race\"], \n",
    "                              enforce_detection=False, detector_backend='mediapipe')\n",
    "\n",
    "    # Display the result\n",
    "    font = cv2.FONT_HERSHEY_SIMPLEX\n",
    "    cv2.putText(frame, f\"Age: {result['age']}\", (10, 50), font, 1, (255, 255, 255), 2, cv2.LINE_AA)\n",
    "    cv2.putText(frame, f\"Gender: {result['gender']}\", (10, 100), font, 1, (255, 255, 255), 2, cv2.LINE_AA)\n",
    "    cv2.putText(frame, f\"Emotion: {result['dominant_emotion']}\", (10, 150), font, 1, (255, 255, 255), 2, cv2.LINE_AA)\n",
    "    cv2.putText(frame, f\"Race: {result['dominant_race']}\", (10, 200), font, 1, (255, 255, 255), 2, cv2.LINE_AA)\n",
    "    cv2.putText(frame, f\"Expression: {result['dominant_facial_expression']}\", (10, 250), font, 1, (255, 255, 255), 2, cv2.LINE_AA)\n",
    "\n",
    "    # Display the frame\n",
    "    cv2.imshow('Real-Time Face Recognition', frame)\n",
    "\n",
    "    # Break the loop when 'q' is pressed\n",
    "    if cv2.waitKey(1) & 0xFF == ord('q'):\n",
    "        break\n",
    "\n",
    "# Release the video capture device and close all windows\n",
    "cap.release()\n",
    "cv2.destroyAllWindows()"
   ]
  }
 ],
 "metadata": {
  "kernelspec": {
   "display_name": "Python 3 (ipykernel)",
   "language": "python",
   "name": "python3"
  },
  "language_info": {
   "codemirror_mode": {
    "name": "ipython",
    "version": 3
   },
   "file_extension": ".py",
   "mimetype": "text/x-python",
   "name": "python",
   "nbconvert_exporter": "python",
   "pygments_lexer": "ipython3",
   "version": "3.10.9"
  }
 },
 "nbformat": 4,
 "nbformat_minor": 5
}
