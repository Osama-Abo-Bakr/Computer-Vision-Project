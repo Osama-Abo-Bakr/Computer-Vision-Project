{
 "cells": [
  {
   "cell_type": "code",
   "execution_count": null,
   "id": "c4ca0e91",
   "metadata": {},
   "outputs": [],
   "source": [
    "from scipy.spatial import distance\n",
    "from imutils import face_utils\n",
    "import imutils\n",
    "import cv2\n",
    "import time\n",
    "import datetime\n",
    "import playsound\n",
    "import dlib"
   ]
  },
  {
   "cell_type": "code",
   "execution_count": 2,
   "id": "00140076",
   "metadata": {},
   "outputs": [],
   "source": [
    "alarm_on = False\n",
    "model_path = ''\n",
    "alarm_path = ''\n",
    "\n",
    "\n",
    "def eye_aspect_ratio(eye):\n",
    "    a = distance.euclidean(eye[1], eye[5])\n",
    "    b = distance.euclidean(eye[2], eye[4])\n",
    "    c = distance.euclidean(eye[0], eye[3])\n",
    "    ear = (a+b) / (2.0 * c)\n",
    "    return ear"
   ]
  },
  {
   "cell_type": "code",
   "execution_count": 1,
   "id": "3de04984",
   "metadata": {},
   "outputs": [],
   "source": [
    "def detect():\n",
    "    thresh = 0.25\n",
    "    frame_check = 10\n",
    "    detect = dlib.get_frontal_face_detector()\n",
    "    predict = dlib.shape_predictor(model_path)\n",
    "\n",
    "    (lstart, lend) = face_utils.FACIAL_LANDMARKS_68_IDXS['left_eye']\n",
    "    (rstart, rend) = face_utils.FACIAL_LANDMARKS_68_IDXS['right_eye']\n",
    "\n",
    "    video = cv2.VideoCapture(0)\n",
    "    flag = 0\n",
    "    while True:\n",
    "        ret, image = video.read()\n",
    "        if not ret:break\n",
    "        image = imutils.resize(image, width=640, height=640)\n",
    "        gray = cv2.cvtColor(image, cv2.COLOR_BGR2GRAY)\n",
    "        subjects = detect(gray, 0)\n",
    "        for subject in subjects:\n",
    "            shape = predict(gray, subject)\n",
    "            shape = face_utils.shape_to_np(shape)\n",
    "            lefteye = shape[lstart:lend]\n",
    "            righteye = shape[rstart:rend]\n",
    "\n",
    "            leftear = eye_aspect_ratio(lefteye)\n",
    "            rightear = eye_aspect_ratio(righteye)\n",
    "\n",
    "            ear = (leftear + rightear) / 2.0\n",
    "            lefteyehell = cv2.convexHull(lefteye)\n",
    "            righteyehell = cv2.convexHull(righteye)\n",
    "\n",
    "            cv2.drawContours(image, [lefteyehell], -1, (0, 0, 255), 1)\n",
    "            cv2.drawContours(image, [righteyehell], -1, (0, 0, 255), 1)\n",
    "\n",
    "            if ear < thresh:\n",
    "                flag += 1\n",
    "                if flag >= frame_check:\n",
    "                    if not alarm_on:\n",
    "                        alarm_on = True\n",
    "                        time.sleep(0.001)\n",
    "\n",
    "                    cv2.putText(image, '********** Drowsy**********', (10, 30), cv2.FONT_ITALIC,\n",
    "                                1, (0, 0, 255), 1)\n",
    "\n",
    "                    cv2.putText(image, f'Sleeping Time: {flag-frame_check} sec', (10, 60), cv2.FONT_ITALIC,\n",
    "                                1, (0, 0, 255), 1)\n",
    "\n",
    "                    playsound.playsound(alarm_path, True)\n",
    "\n",
    "\n",
    "            else:\n",
    "                flag = 0\n",
    "                alarm_on = False\n",
    "\n",
    "            cv2.imshow('image', image)\n",
    "            if cv2.waitKey(1) == ord('o'): break\n",
    "\n",
    "\n",
    "    cv2.destroyAllWindows()\n",
    "    video.release()"
   ]
  },
  {
   "cell_type": "code",
   "execution_count": null,
   "id": "04a1b641",
   "metadata": {},
   "outputs": [],
   "source": [
    "detect()"
   ]
  },
  {
   "cell_type": "code",
   "execution_count": null,
   "id": "3b37128a",
   "metadata": {},
   "outputs": [],
   "source": []
  },
  {
   "cell_type": "code",
   "execution_count": null,
   "id": "a8621212",
   "metadata": {},
   "outputs": [],
   "source": []
  },
  {
   "cell_type": "code",
   "execution_count": null,
   "id": "1716783f",
   "metadata": {},
   "outputs": [],
   "source": []
  },
  {
   "cell_type": "code",
   "execution_count": null,
   "id": "9313a296",
   "metadata": {},
   "outputs": [],
   "source": []
  },
  {
   "cell_type": "code",
   "execution_count": null,
   "id": "1912629b",
   "metadata": {},
   "outputs": [],
   "source": []
  },
  {
   "cell_type": "code",
   "execution_count": null,
   "id": "21f7a772",
   "metadata": {},
   "outputs": [],
   "source": []
  },
  {
   "cell_type": "code",
   "execution_count": null,
   "id": "96bd807e",
   "metadata": {},
   "outputs": [],
   "source": []
  }
 ],
 "metadata": {
  "kernelspec": {
   "display_name": "Python 3 (ipykernel)",
   "language": "python",
   "name": "python3"
  },
  "language_info": {
   "codemirror_mode": {
    "name": "ipython",
    "version": 3
   },
   "file_extension": ".py",
   "mimetype": "text/x-python",
   "name": "python",
   "nbconvert_exporter": "python",
   "pygments_lexer": "ipython3",
   "version": "3.10.9"
  }
 },
 "nbformat": 4,
 "nbformat_minor": 5
}
