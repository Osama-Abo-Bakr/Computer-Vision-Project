{
 "cells": [
  {
   "cell_type": "code",
   "execution_count": null,
   "id": "b3391a47",
   "metadata": {},
   "outputs": [],
   "source": [
    "from ultralytics import YOLO\n",
    "import cv2, os\n",
    "os.environ[\"KMP_DUPLICATE_LIB_OK\"]=\"TRUE\"\n",
    "\n",
    "\n",
    "model = YOLO('yolov8n.pt')\n",
    "video = cv2.VideoCapture(0)\n",
    "\n",
    "while True:\n",
    "    _, image = video.read()\n",
    "\n",
    "    result = model.track(image, persist=True, tracker='bytetrack.yaml')\n",
    "    image_ = result[0].plot()\n",
    "    cv2.imshow('image', image_)\n",
    "    if cv2.waitKey(1) == ord('o'): break\n",
    "\n",
    "\n",
    "cv2.destroyAllWindows()\n",
    "video.release()"
   ]
  },
  {
   "cell_type": "code",
   "execution_count": null,
   "id": "178ce360",
   "metadata": {},
   "outputs": [],
   "source": [
    "import numpy as np\n",
    "from ultralytics import YOLO\n",
    "import cv2, os\n",
    "from collections import defaultdict\n",
    "\n",
    "os.environ[\"KMP_DUPLICATE_LIB_OK\"] = \"TRUE\"\n",
    "\n",
    "model = YOLO('yolov8n.pt')\n",
    "video = cv2.VideoCapture(0)\n",
    "\n",
    "track_history = defaultdict(lambda: [])\n",
    "\n",
    "\n",
    "\n",
    "while True:\n",
    "    _, image = video.read()\n",
    "\n",
    "    result = model.track(image, persist=True)\n",
    "\n",
    "    boxes = result[0].boxes.xywh.cpu()\n",
    "    tracks_id = result[0].boxes.id.int().cpu().tolist()\n",
    "\n",
    "    annotated_frame = result[0].plot()\n",
    "\n",
    "    for box, track_id in zip(boxes, tracks_id):\n",
    "        x, y, w, h = box\n",
    "        track = track_history[track_id]\n",
    "        track.append((float(x), float(y)))\n",
    "        if len(track) > 30:\n",
    "            track.pop(0)\n",
    "\n",
    "\n",
    "        points = np.hstack(track).astype(np.int32).reshape((-1, 1, 2))\n",
    "        cv2.polylines(annotated_frame, [points], isClosed=False, color=(0, 0, 250), thickness=2)\n",
    "\n",
    "\n",
    "\n",
    "    cv2.imshow('Tracking Yolo-v8', annotated_frame)\n",
    "    if cv2.waitKey(1) == ord('o'): break\n",
    "\n",
    "\n",
    "cv2.destroyAllWindows()\n",
    "video.release()"
   ]
  },
  {
   "cell_type": "code",
   "execution_count": null,
   "id": "a6b6e448",
   "metadata": {},
   "outputs": [],
   "source": []
  },
  {
   "cell_type": "code",
   "execution_count": null,
   "id": "7d28fff2",
   "metadata": {},
   "outputs": [],
   "source": []
  }
 ],
 "metadata": {
  "kernelspec": {
   "display_name": "Python 3 (ipykernel)",
   "language": "python",
   "name": "python3"
  },
  "language_info": {
   "codemirror_mode": {
    "name": "ipython",
    "version": 3
   },
   "file_extension": ".py",
   "mimetype": "text/x-python",
   "name": "python",
   "nbconvert_exporter": "python",
   "pygments_lexer": "ipython3",
   "version": "3.10.9"
  }
 },
 "nbformat": 4,
 "nbformat_minor": 5
}
