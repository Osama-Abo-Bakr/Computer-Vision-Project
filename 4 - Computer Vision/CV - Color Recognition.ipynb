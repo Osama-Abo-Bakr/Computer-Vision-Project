{
 "cells": [
  {
   "cell_type": "code",
   "execution_count": null,
   "id": "be9c9ba7",
   "metadata": {},
   "outputs": [],
   "source": [
    "import cv2\n",
    "\n",
    "video = cv2.VideoCapture(0)\n",
    "\n",
    "video.set(cv2.CAP_PROP_FRAME_WIDTH, 1280)\n",
    "video.set(cv2.CAP_PROP_FRAME_HEIGHT, 720)\n",
    "\n",
    "while True:\n",
    "    _, image = video.read()\n",
    "\n",
    "    image_hsv = cv2.cvtColor(image, cv2.COLOR_BGR2HSV)\n",
    "    h, w, c = image.shape\n",
    "\n",
    "    cx = int(w // 2)\n",
    "    cy = int(h // 2)\n",
    "\n",
    "    pixel_center = image_hsv[cy, cx]\n",
    "    hue_value = pixel_center[0]\n",
    "\n",
    "    color = 'Undefined'\n",
    "    if hue_value < 5: color = 'Red'\n",
    "    elif hue_value < 22: color = 'Orange'\n",
    "    elif hue_value < 33: color = 'Yellow'\n",
    "    elif hue_value < 78: color = 'Green'\n",
    "    elif hue_value < 131: color = 'Blue'\n",
    "    elif hue_value < 170: color = 'Violet'\n",
    "    else: color = 'Red'\n",
    "\n",
    "    pixel_center_bgr = image[cx, cy]\n",
    "    b, g, r = int(pixel_center_bgr[0]), int(pixel_center_bgr[1]), int(pixel_center_bgr[2])\n",
    "\n",
    "    cv2.rectangle(image, (cx-220, 10), (cx+200, 120), (255, 255, 255), -1)\n",
    "    cv2.putText(image, color, (cx-200, 100), 0, 3, (b, g, r), 5)\n",
    "    cv2.circle(image, (cx, cy), 5, (25, 25, 25), 3)\n",
    "\n",
    "    cv2.imshow('image', image)\n",
    "    if cv2.waitKey(1) == ord('o'):\n",
    "        break\n",
    "\n",
    "\n",
    "cv2.destroyAllWindows()\n",
    "video.release()"
   ]
  }
 ],
 "metadata": {
  "kernelspec": {
   "display_name": "Python 3 (ipykernel)",
   "language": "python",
   "name": "python3"
  },
  "language_info": {
   "codemirror_mode": {
    "name": "ipython",
    "version": 3
   },
   "file_extension": ".py",
   "mimetype": "text/x-python",
   "name": "python",
   "nbconvert_exporter": "python",
   "pygments_lexer": "ipython3",
   "version": "3.10.9"
  }
 },
 "nbformat": 4,
 "nbformat_minor": 5
}
