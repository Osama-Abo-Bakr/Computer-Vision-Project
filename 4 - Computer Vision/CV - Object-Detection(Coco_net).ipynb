{
 "cells": [
  {
   "cell_type": "code",
   "execution_count": null,
   "id": "74ebc3eb",
   "metadata": {},
   "outputs": [],
   "source": [
    "import cv2"
   ]
  },
  {
   "cell_type": "code",
   "execution_count": null,
   "id": "15dcc602",
   "metadata": {},
   "outputs": [],
   "source": [
    "video = cv2.VideoCapture(0)\n",
    "\n",
    "class_name = []\n",
    "name_path = \"D:\\Pycharm\\Computer Vision\\object_detection-20230715T083044Z-001/coco.names\"\n",
    "with open(name_path, \"rt\") as f:\n",
    "    class_name = f.read().rstrip(\"\\n\").split(\"\\n\")\n",
    "\n",
    "configPath = \"D:\\Pycharm\\Computer Vision\\object_detection-20230715T083044Z-001/ssd_mobilenet_v3_large_coco_2022_01_14.pbtxt\"\n",
    "weightPath = \"D:\\Pycharm\\Computer Vision\\object_detection-20230715T083044Z-001/frozen_inference_graph.pb\""
   ]
  },
  {
   "cell_type": "code",
   "execution_count": null,
   "id": "62f6a553",
   "metadata": {},
   "outputs": [],
   "source": [
    "net = cv2.dnn_DetectionModel(weightPath, configPath)\n",
    "net.setInputSize(320, 230)\n",
    "net.setInputScale(1.0/127.5)\n",
    "net.setInputMean((127.5, 127.5, 127.5))\n",
    "net.setInputSwapRB(True)\n",
    "\n",
    "face_detection = cv2.CascadeClassifier(r\"D:\\Pycharm\\Computer Vision\\haar cascade files-20230720T005324Z-001\\haarcascade_frontalface_default.xml\")"
   ]
  },
  {
   "cell_type": "code",
   "execution_count": null,
   "id": "a4c03b51",
   "metadata": {},
   "outputs": [],
   "source": [
    "cv2.__version__"
   ]
  },
  {
   "cell_type": "code",
   "execution_count": null,
   "id": "0b0cd1c1",
   "metadata": {},
   "outputs": [],
   "source": [
    "while True:\n",
    "    _, img = video.read()\n",
    "    classID, confs, bbox = net.detect(img, confThreshold=0.6)\n",
    "\n",
    "    if len(classID) != 0:\n",
    "        for classid, confidness, box in zip(classID.flatten(), confs.flatten(), bbox):\n",
    "            x, y, w, h = box\n",
    "            cv2.rectangle(img, (x, y), (x+w-10, y+h-20), (0, 255, 0), 2)\n",
    "            cv2.putText(img, class_name[classid-1], (box[0]+10, box[1]+20), cv2.FONT_ITALIC, 1, (50, 40, 255), 2)\n",
    "            face = face_detection.detectMultiScale(img)\n",
    "            for (x, y, w, h) in face:\n",
    "                cv2.rectangle(img, (x, y), (x + w, y + h), (0, 255, 0), 2)\n",
    "                cv2.putText(img, \"Face\", (x, y), 1, 1.3, (0, 0, 255), 2)\n",
    "\n",
    "    cv2.imshow(\"image\", img)\n",
    "    if cv2.waitKey(1) & 0xff == ord(\"o\"):\n",
    "        break\n",
    "        \n",
    "cv2.destroyAllWindows()\n",
    "video.release()"
   ]
  },
  {
   "cell_type": "code",
   "execution_count": null,
   "id": "52f30c70",
   "metadata": {},
   "outputs": [],
   "source": []
  }
 ],
 "metadata": {
  "kernelspec": {
   "display_name": "Python 3 (ipykernel)",
   "language": "python",
   "name": "python3"
  },
  "language_info": {
   "codemirror_mode": {
    "name": "ipython",
    "version": 3
   },
   "file_extension": ".py",
   "mimetype": "text/x-python",
   "name": "python",
   "nbconvert_exporter": "python",
   "pygments_lexer": "ipython3",
   "version": "3.10.9"
  }
 },
 "nbformat": 4,
 "nbformat_minor": 5
}
