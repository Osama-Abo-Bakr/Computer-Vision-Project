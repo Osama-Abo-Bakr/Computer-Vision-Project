{
 "cells": [
  {
   "cell_type": "code",
   "execution_count": 1,
   "id": "a998e600",
   "metadata": {},
   "outputs": [],
   "source": [
    "import cv2"
   ]
  },
  {
   "cell_type": "code",
   "execution_count": 2,
   "id": "ff9f311f",
   "metadata": {},
   "outputs": [],
   "source": [
    "video = cv2.VideoCapture(0)\n",
    "face_detection = cv2.CascadeClassifier(\"haarcascade_frontalface_default.xml\")\n",
    "smile_detection = cv2.CascadeClassifier(\"D:\\Pycharm\\Computer Vision\\haar cascade files-20230720T005324Z-001\\haarcascade_smile.xml\")\n",
    "eye_detection = cv2.CascadeClassifier(\"D:\\Pycharm\\Computer Vision\\haar cascade files-20230720T005324Z-001\\haarcascade_eye.xml\")"
   ]
  },
  {
   "cell_type": "code",
   "execution_count": 3,
   "id": "8af5ae73",
   "metadata": {},
   "outputs": [
    {
     "ename": "error",
     "evalue": "OpenCV(4.8.0) D:\\a\\opencv-python\\opencv-python\\opencv\\modules\\objdetect\\src\\cascadedetect.cpp:1689: error: (-215:Assertion failed) !empty() in function 'cv::CascadeClassifier::detectMultiScale'\n",
     "output_type": "error",
     "traceback": [
      "\u001b[1;31m---------------------------------------------------------------------------\u001b[0m",
      "\u001b[1;31merror\u001b[0m                                     Traceback (most recent call last)",
      "Cell \u001b[1;32mIn[3], line 3\u001b[0m\n\u001b[0;32m      1\u001b[0m \u001b[38;5;28;01mwhile\u001b[39;00m \u001b[38;5;28;01mTrue\u001b[39;00m:\n\u001b[0;32m      2\u001b[0m     _, image \u001b[38;5;241m=\u001b[39m video\u001b[38;5;241m.\u001b[39mread()\n\u001b[1;32m----> 3\u001b[0m     face \u001b[38;5;241m=\u001b[39m \u001b[43mface_detection\u001b[49m\u001b[38;5;241;43m.\u001b[39;49m\u001b[43mdetectMultiScale\u001b[49m\u001b[43m(\u001b[49m\u001b[43mimage\u001b[49m\u001b[43m)\u001b[49m\n\u001b[0;32m      5\u001b[0m     \u001b[38;5;28;01mfor\u001b[39;00m (x, y, w, h) \u001b[38;5;129;01min\u001b[39;00m face:\n\u001b[0;32m      6\u001b[0m         face_only \u001b[38;5;241m=\u001b[39m image[y:y\u001b[38;5;241m+\u001b[39mh, x:x\u001b[38;5;241m+\u001b[39mw]\n",
      "\u001b[1;31merror\u001b[0m: OpenCV(4.8.0) D:\\a\\opencv-python\\opencv-python\\opencv\\modules\\objdetect\\src\\cascadedetect.cpp:1689: error: (-215:Assertion failed) !empty() in function 'cv::CascadeClassifier::detectMultiScale'\n"
     ]
    }
   ],
   "source": [
    "while True:\n",
    "    _, image = video.read()\n",
    "    face = face_detection.detectMultiScale(image)\n",
    "\n",
    "    for (x, y, w, h) in face:\n",
    "        face_only = image[y:y+h, x:x+w]\n",
    "        cv2.rectangle(image, (x, y), (x+w, y+h), (0, 255, 0), 2)\n",
    "        cv2.putText(image, \"Face\", (x, y), 1, 1.3, (0, 0, 255), 2)\n",
    "\n",
    "        smile = smile_detection.detectMultiScale(face_only, 1.3, 10)\n",
    "        eye = eye_detection.detectMultiScale(face_only)\n",
    "\n",
    "        for (sx, sy, sw, sh) in smile:\n",
    "            cv2.rectangle(face_only, (sx, sy), (sx + sw, sy + sh), (0, 255, 0), 2)\n",
    "            cv2.putText(face_only, \"smile\", (sx, sy), 1, 1.3, (0, 0, 255), 2)\n",
    "\n",
    "        for (ex, ey, ew, eh) in eye:\n",
    "            # cv2.rectangle(face_only, (ex, ey), (ex + ew, ey + eh), (0, 255, 0), 2)\n",
    "            cv2.putText(face_only, \"X\", (ex+ew//2 -10, ey+eh//2 + 10), cv2.FONT_HERSHEY_COMPLEX, 1, (0, 255, 0), 2)\n",
    "\n",
    "    cv2.imshow(\"image\", image)\n",
    "\n",
    "    if cv2.waitKey(30) & 0xff == ord(\"o\"):\n",
    "        break\n",
    "\n",
    "video.release()\n",
    "cv2.destroyAllWindows()"
   ]
  },
  {
   "cell_type": "code",
   "execution_count": null,
   "id": "042c0417",
   "metadata": {},
   "outputs": [],
   "source": []
  }
 ],
 "metadata": {
  "kernelspec": {
   "display_name": "Python 3 (ipykernel)",
   "language": "python",
   "name": "python3"
  },
  "language_info": {
   "codemirror_mode": {
    "name": "ipython",
    "version": 3
   },
   "file_extension": ".py",
   "mimetype": "text/x-python",
   "name": "python",
   "nbconvert_exporter": "python",
   "pygments_lexer": "ipython3",
   "version": "3.10.9"
  }
 },
 "nbformat": 4,
 "nbformat_minor": 5
}
