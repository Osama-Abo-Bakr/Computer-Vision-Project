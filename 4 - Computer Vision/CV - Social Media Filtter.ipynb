{
 "cells": [
  {
   "cell_type": "markdown",
   "id": "1530d683",
   "metadata": {},
   "source": [
    "# Main Library"
   ]
  },
  {
   "cell_type": "code",
   "execution_count": 1,
   "id": "7ef479e4",
   "metadata": {},
   "outputs": [],
   "source": [
    "import cv2, os\n",
    "import numpy as np"
   ]
  },
  {
   "cell_type": "code",
   "execution_count": 2,
   "id": "42019256",
   "metadata": {},
   "outputs": [],
   "source": [
    "face_cl = cv2.CascadeClassifier(r\"D:\\Pycharm\\Computer Vision\\haar cascade files-20230720T005324Z-001\\haarcascade_frontalface_default.xml\")\n",
    "eye_cl = cv2.CascadeClassifier(r\"D:\\Pycharm\\Computer Vision\\haar cascade files-20230720T005324Z-001\\eyes.xml\")\n",
    "mouth_cl = cv2.CascadeClassifier(r\"D:\\Pycharm\\Computer Vision\\haar cascade files-20230720T005324Z-001\\mouth.xml\")\n",
    "\n",
    "glass = cv2.imread(r\"D:\\Pycharm\\Computer Vision\\haar cascade files-20230720T005324Z-001\\glasses.png\", cv2.IMREAD_UNCHANGED)\n",
    "hat = cv2.imread(r\"D:\\Pycharm\\Computer Vision\\haar cascade files-20230720T005324Z-001\\fedora.png\", cv2.IMREAD_UNCHANGED)\n",
    "cigar = cv2.imread(r\"D:\\Pycharm\\Computer Vision\\haar cascade files-20230720T005324Z-001\\cigar.png\", cv2.IMREAD_UNCHANGED)"
   ]
  },
  {
   "cell_type": "code",
   "execution_count": 3,
   "id": "32ff0955",
   "metadata": {},
   "outputs": [],
   "source": [
    "def transparency(filter_img, frame):\n",
    "    real_img = filter_img[:,:,0:3]\n",
    "    alpha_img = filter_img[:,:,3]\n",
    "\n",
    "    alpha_img = alpha_img[...,None]\n",
    "    mask = alpha_img // 255\n",
    "\n",
    "    result = mask * real_img +  frame * (1-mask)\n",
    "    return result\n",
    "\n",
    "def detect_object(filter_image, offset_x, offset_y, offset_w, offset_h,image, original, classifiar, color, color_Scale=1, min_N=5):\n",
    "    original = cv2.cvtColor(original, cv2.COLOR_BGR2GRAY)\n",
    "    result = classifiar.detectMultiScale(original, color_Scale, min_N)\n",
    "    \n",
    "    for (x, y, w, h) in result:\n",
    "        if offset_x + x >= 0 and offset_y + y >= 0 and offset_w + w >= 0 and offset_h + h >= 0:\n",
    "            x += offset_x\n",
    "            y += offset_y\n",
    "            w += offset_w\n",
    "            h += offset_h\n",
    "            if filter_image is None:\n",
    "                cv2.rectangle(image, (x, y), (x+w, y+h), color, 1)\n",
    "            else:\n",
    "                filter_image = cv2.resize(filter_image, (w, h))\n",
    "                clip = image[y:y+filter_image.shape[0], x:x+filter_image.shape[1]]\n",
    "                \n",
    "                result = transparency(filter_image, clip)\n",
    "                image[y:y+filter_image.shape[0], x:x+filter_image.shape[1]] = result\n",
    "        \n",
    "    return image\n",
    "        "
   ]
  },
  {
   "cell_type": "code",
   "execution_count": 6,
   "id": "d00d2148",
   "metadata": {},
   "outputs": [
    {
     "ename": "error",
     "evalue": "OpenCV(4.8.0) D:\\a\\opencv-python\\opencv-python\\opencv\\modules\\imgproc\\src\\resize.cpp:4065: error: (-215:Assertion failed) inv_scale_x > 0 in function 'cv::resize'\n",
     "output_type": "error",
     "traceback": [
      "\u001b[1;31m---------------------------------------------------------------------------\u001b[0m",
      "\u001b[1;31merror\u001b[0m                                     Traceback (most recent call last)",
      "Cell \u001b[1;32mIn[6], line 6\u001b[0m\n\u001b[0;32m      2\u001b[0m \u001b[38;5;28;01mwhile\u001b[39;00m \u001b[38;5;28;01mTrue\u001b[39;00m:\n\u001b[0;32m      3\u001b[0m     _, frame \u001b[38;5;241m=\u001b[39m Video\u001b[38;5;241m.\u001b[39mread()\n\u001b[1;32m----> 6\u001b[0m     result \u001b[38;5;241m=\u001b[39m \u001b[43mdetect_object\u001b[49m\u001b[43m(\u001b[49m\u001b[43mhat\u001b[49m\u001b[43m,\u001b[49m\u001b[43m \u001b[49m\u001b[38;5;241;43m0\u001b[39;49m\u001b[43m,\u001b[49m\u001b[43m \u001b[49m\u001b[38;5;241;43m-\u001b[39;49m\u001b[38;5;241;43m120\u001b[39;49m\u001b[43m,\u001b[49m\u001b[43m \u001b[49m\u001b[38;5;241;43m0\u001b[39;49m\u001b[43m,\u001b[49m\u001b[43m \u001b[49m\u001b[38;5;241;43m-\u001b[39;49m\u001b[38;5;241;43m50\u001b[39;49m\u001b[43m,\u001b[49m\u001b[43m \u001b[49m\u001b[43mframe\u001b[49m\u001b[43m,\u001b[49m\u001b[43m \u001b[49m\u001b[43mframe\u001b[49m\u001b[43m,\u001b[49m\u001b[43m \u001b[49m\u001b[43mface_cl\u001b[49m\u001b[43m,\u001b[49m\u001b[43m \u001b[49m\u001b[43m(\u001b[49m\u001b[38;5;241;43m0\u001b[39;49m\u001b[43m,\u001b[49m\u001b[43m \u001b[49m\u001b[38;5;241;43m255\u001b[39;49m\u001b[43m,\u001b[49m\u001b[43m \u001b[49m\u001b[38;5;241;43m0\u001b[39;49m\u001b[43m)\u001b[49m\u001b[43m,\u001b[49m\u001b[43m \u001b[49m\u001b[38;5;241;43m1.2\u001b[39;49m\u001b[43m,\u001b[49m\u001b[43m \u001b[49m\u001b[38;5;241;43m5\u001b[39;49m\u001b[43m)\u001b[49m\n\u001b[0;32m      7\u001b[0m     result \u001b[38;5;241m=\u001b[39m detect_object(glass, \u001b[38;5;241m0\u001b[39m, \u001b[38;5;241m0\u001b[39m, \u001b[38;5;241m0\u001b[39m, \u001b[38;5;241m0\u001b[39m,result, frame, eye_cl, (\u001b[38;5;241m255\u001b[39m, \u001b[38;5;241m0\u001b[39m, \u001b[38;5;241m0\u001b[39m), \u001b[38;5;241m1.2\u001b[39m, \u001b[38;5;241m4\u001b[39m)\n\u001b[0;32m      8\u001b[0m     result \u001b[38;5;241m=\u001b[39m detect_object(cigar, \u001b[38;5;241m50\u001b[39m, \u001b[38;5;241m-\u001b[39m\u001b[38;5;241m30\u001b[39m, \u001b[38;5;241m0\u001b[39m, \u001b[38;5;241m0\u001b[39m,result, frame, mouth_cl, (\u001b[38;5;241m0\u001b[39m, \u001b[38;5;241m0\u001b[39m, \u001b[38;5;241m255\u001b[39m), \u001b[38;5;241m3.5\u001b[39m, \u001b[38;5;241m7\u001b[39m)\n",
      "Cell \u001b[1;32mIn[3], line 24\u001b[0m, in \u001b[0;36mdetect_object\u001b[1;34m(filter_image, offset_x, offset_y, offset_w, offset_h, image, original, classifiar, color, color_Scale, min_N)\u001b[0m\n\u001b[0;32m     22\u001b[0m     cv2\u001b[38;5;241m.\u001b[39mrectangle(image, (x, y), (x\u001b[38;5;241m+\u001b[39mw, y\u001b[38;5;241m+\u001b[39mh), color, \u001b[38;5;241m1\u001b[39m)\n\u001b[0;32m     23\u001b[0m \u001b[38;5;28;01melse\u001b[39;00m:\n\u001b[1;32m---> 24\u001b[0m     filter_image \u001b[38;5;241m=\u001b[39m \u001b[43mcv2\u001b[49m\u001b[38;5;241;43m.\u001b[39;49m\u001b[43mresize\u001b[49m\u001b[43m(\u001b[49m\u001b[43mfilter_image\u001b[49m\u001b[43m,\u001b[49m\u001b[43m \u001b[49m\u001b[43m(\u001b[49m\u001b[43mw\u001b[49m\u001b[43m,\u001b[49m\u001b[43m \u001b[49m\u001b[43mh\u001b[49m\u001b[43m)\u001b[49m\u001b[43m)\u001b[49m\n\u001b[0;32m     25\u001b[0m     clip \u001b[38;5;241m=\u001b[39m image[y:y\u001b[38;5;241m+\u001b[39mfilter_image\u001b[38;5;241m.\u001b[39mshape[\u001b[38;5;241m0\u001b[39m], x:x\u001b[38;5;241m+\u001b[39mfilter_image\u001b[38;5;241m.\u001b[39mshape[\u001b[38;5;241m1\u001b[39m]]\n\u001b[0;32m     27\u001b[0m     result \u001b[38;5;241m=\u001b[39m transparency(filter_image, clip)\n",
      "\u001b[1;31merror\u001b[0m: OpenCV(4.8.0) D:\\a\\opencv-python\\opencv-python\\opencv\\modules\\imgproc\\src\\resize.cpp:4065: error: (-215:Assertion failed) inv_scale_x > 0 in function 'cv::resize'\n"
     ]
    }
   ],
   "source": [
    "Video = cv2.VideoCapture(0)\n",
    "while True:\n",
    "    _, frame = Video.read()\n",
    "    \n",
    "    \n",
    "    result = detect_object(hat, 0, -120, 0, -50, frame, frame, face_cl, (0, 255, 0), 1.2, 5)\n",
    "    result = detect_object(glass, 0, 0, 0, 0,result, frame, eye_cl, (255, 0, 0), 1.2, 4)\n",
    "    result = detect_object(cigar, 50, -30, 0, 0,result, frame, mouth_cl, (0, 0, 255), 3.5, 7)\n",
    "    \n",
    "    cv2.imshow(\"image\", result)\n",
    "    if cv2.waitKey(1) == ord(\"o\"):break\n",
    "\n",
    "Video.release()\n",
    "cv2.destroyAllWindows()"
   ]
  },
  {
   "cell_type": "code",
   "execution_count": null,
   "id": "89dea117",
   "metadata": {},
   "outputs": [],
   "source": []
  },
  {
   "cell_type": "code",
   "execution_count": null,
   "id": "a63b1f5a",
   "metadata": {},
   "outputs": [],
   "source": []
  },
  {
   "cell_type": "code",
   "execution_count": null,
   "id": "78712ade",
   "metadata": {},
   "outputs": [],
   "source": []
  }
 ],
 "metadata": {
  "kernelspec": {
   "display_name": "Python 3 (ipykernel)",
   "language": "python",
   "name": "python3"
  },
  "language_info": {
   "codemirror_mode": {
    "name": "ipython",
    "version": 3
   },
   "file_extension": ".py",
   "mimetype": "text/x-python",
   "name": "python",
   "nbconvert_exporter": "python",
   "pygments_lexer": "ipython3",
   "version": "3.10.9"
  }
 },
 "nbformat": 4,
 "nbformat_minor": 5
}
