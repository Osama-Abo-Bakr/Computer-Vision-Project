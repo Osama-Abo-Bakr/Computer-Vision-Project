{
 "cells": [
  {
   "cell_type": "code",
   "execution_count": 1,
   "id": "78a7212e",
   "metadata": {},
   "outputs": [],
   "source": [
    "import cv2\n",
    "import numpy as np"
   ]
  },
  {
   "cell_type": "code",
   "execution_count": 4,
   "id": "31af2a56",
   "metadata": {},
   "outputs": [],
   "source": [
    "video = cv2.VideoCapture(r'D:\\Courses language programming\\7_Computer Vision\\Computer Vision - Full Course\\5-Object Detection\\Motion-Detection-and-Tracking-Using-Opencv-main\\vtest.avi')\n",
    "\n",
    "frame_width = video.get(cv2.CAP_PROP_FRAME_WIDTH)\n",
    "frame_height = video.get(cv2.CAP_PROP_FRAME_HEIGHT)\n",
    "\n",
    "ret, frame1 = video.read()\n",
    "ret, frame2 = video.read()"
   ]
  },
  {
   "cell_type": "code",
   "execution_count": 5,
   "id": "b2d4bba5",
   "metadata": {},
   "outputs": [],
   "source": [
    "while video.isOpened():\n",
    "    diff = cv2.absdiff(frame1, frame2)\n",
    "    gray = cv2.cvtColor(diff, cv2.COLOR_BGR2GRAY)\n",
    "\n",
    "    blur = cv2.GaussianBlur(gray, (5, 5), 0)\n",
    "\n",
    "    _, thresh = cv2.threshold(blur, 60, 255, cv2.THRESH_BINARY)\n",
    "    dilation = cv2.dilate(thresh, None, iterations=10)\n",
    "#     contours, _ = cv2.findContours(dilation, cv2.RETR_TREE, cv2.CHAIN_APPROX_NONE)\n",
    "    _, contours, _ = cv2.findContours(dilation, cv2.RETR_TREE, cv2.CHAIN_APPROX_SIMPLE)\n",
    "\n",
    "\n",
    "\n",
    "    for contour in contours:\n",
    "        (x, y, w, h) = cv2.boundingRect(contour)\n",
    "\n",
    "        if cv2.contourArea(contour) < 900:\n",
    "            continue\n",
    "        else:\n",
    "            cv2.rectangle(frame1, (x, y), (x+w, y+h), (0, 255, 0), 2)\n",
    "            cv2.putText(frame1, f'Status: Movement', (10, 20),\n",
    "                        cv2.FONT_ITALIC, 1, (0, 0, 255), 2)\n",
    "\n",
    "\n",
    "    cv2.imshow('image', frame1)\n",
    "#     cv2.imshow('gray', gray)\n",
    "#     cv2.imshow('blur', blur)\n",
    "#     cv2.imshow('thresh', thresh)\n",
    "#     cv2.imshow('dilation', dilation)\n",
    "    frame1 = frame2\n",
    "    ret, frame2 = video.read()\n",
    "    if ret is None: break\n",
    "\n",
    "\n",
    "    if cv2.waitKey(30) == ord('o'): break\n",
    "\n",
    "cv2.destroyAllWindows()\n",
    "video.release()"
   ]
  },
  {
   "cell_type": "code",
   "execution_count": null,
   "id": "41deb9d7",
   "metadata": {},
   "outputs": [],
   "source": []
  }
 ],
 "metadata": {
  "kernelspec": {
   "display_name": "Python 3 (ipykernel)",
   "language": "python",
   "name": "python3"
  },
  "language_info": {
   "codemirror_mode": {
    "name": "ipython",
    "version": 3
   },
   "file_extension": ".py",
   "mimetype": "text/x-python",
   "name": "python",
   "nbconvert_exporter": "python",
   "pygments_lexer": "ipython3",
   "version": "3.10.9"
  }
 },
 "nbformat": 4,
 "nbformat_minor": 5
}
