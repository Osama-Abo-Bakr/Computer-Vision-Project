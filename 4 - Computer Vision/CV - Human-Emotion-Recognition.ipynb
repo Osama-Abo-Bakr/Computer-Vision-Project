{
 "cells": [
  {
   "cell_type": "code",
   "execution_count": null,
   "id": "d17cf30f",
   "metadata": {},
   "outputs": [],
   "source": [
    "import pickle\n",
    "import cv2\n",
    "import numpy as np"
   ]
  },
  {
   "cell_type": "code",
   "execution_count": null,
   "id": "e9f37d06",
   "metadata": {},
   "outputs": [],
   "source": [
    "model_CNN = pickle.load(open(r\"D:\\Pycharm\\model_pickle\\human_emotion.bin\", \"rb\"))\n",
    "names = ['anger', 'contempt', 'disgust', 'fear', 'happy', 'sadness', 'surprise']\n",
    "\n",
    "\n",
    "camera = cv2.VideoCapture(0)\n",
    "\n",
    "face_detect = (cv2.CascadeClassifier(\n",
    "    r\"D:\\Pycharm\\Computer Vision\\haar cascade files-20230720T005324Z-001\\haarcascade_frontalface_default.xml\")\n",
    "              )"
   ]
  },
  {
   "cell_type": "code",
   "execution_count": null,
   "id": "b0b0c82c",
   "metadata": {},
   "outputs": [],
   "source": [
    "new_predict = 0\n",
    "while True:\n",
    "    _, images = camera.read()\n",
    "\n",
    "    face = face_detect.detectMultiScale(images)\n",
    "\n",
    "    for (x, y, w, h) in face:\n",
    "        cv2.rectangle(images, (x, y), (x + w, y + h), (0, 255, 0), 1)\n",
    "\n",
    "        face_pre = images[y:y + h, x:x + w]\n",
    "\n",
    "        images_a = cv2.resize(face_pre, (100, 100))\n",
    "        new_image = np.reshape(images_a, [1, 100, 100, 3])\n",
    "        new_predict = model_CNN.predict(new_image)\n",
    "\n",
    "        print(new_predict[0])\n",
    "        # print(names[new_predict.argmax()])\n",
    "\n",
    "        cv2.putText(images, f\"{names[new_predict[0].argmax()]} -- {str(np.max(new_predict[0]) * 100)}%\", (x, y), cv2.FONT_ITALIC, 0.8, (50, 30, 255), 2)\n",
    "    cv2.imshow(\"image\", images)\n",
    "    if cv2.waitKey(60) & 0xff == ord(\"o\"):\n",
    "        break\n",
    "        \n",
    "camera.release()\n",
    "cv2.destroyAllWindows()"
   ]
  }
 ],
 "metadata": {
  "kernelspec": {
   "display_name": "Python 3 (ipykernel)",
   "language": "python",
   "name": "python3"
  },
  "language_info": {
   "codemirror_mode": {
    "name": "ipython",
    "version": 3
   },
   "file_extension": ".py",
   "mimetype": "text/x-python",
   "name": "python",
   "nbconvert_exporter": "python",
   "pygments_lexer": "ipython3",
   "version": "3.10.9"
  }
 },
 "nbformat": 4,
 "nbformat_minor": 5
}
