{
 "cells": [
  {
   "cell_type": "markdown",
   "id": "e8b84948",
   "metadata": {},
   "source": [
    "# Loading Library"
   ]
  },
  {
   "cell_type": "code",
   "execution_count": 19,
   "id": "9f5233d4",
   "metadata": {},
   "outputs": [],
   "source": [
    "import cv2\n",
    "import imutils"
   ]
  },
  {
   "cell_type": "code",
   "execution_count": 20,
   "id": "33665fff",
   "metadata": {},
   "outputs": [],
   "source": [
    "tracking_method = {\n",
    "    'csrf': cv2.TrackerCSRT_create,\n",
    "#     'kcf': cv2.TrackerKCF_create,\n",
    "    'mil': cv2.TrackerMIL_create,\n",
    "    'boosting': cv2.TrackerBoosting_create\n",
    "\n",
    "}"
   ]
  },
  {
   "cell_type": "code",
   "execution_count": 21,
   "id": "7b456e8f",
   "metadata": {},
   "outputs": [],
   "source": [
    "tracker = tracking_method['csrf']()"
   ]
  },
  {
   "cell_type": "code",
   "execution_count": 22,
   "id": "ab86fa67",
   "metadata": {},
   "outputs": [],
   "source": [
    "video = cv2.VideoCapture(0)"
   ]
  },
  {
   "cell_type": "code",
   "execution_count": 23,
   "id": "e46ef949",
   "metadata": {},
   "outputs": [],
   "source": [
    "ret, frame = video.read()\n",
    "frame = imutils.resize(frame, width=600)\n",
    "cv2.imshow('image', frame)\n",
    "\n",
    "bb = cv2.selectROI('image', frame)\n",
    "tracker.init(frame, bb)\n",
    "cv2.waitKey(0)\n",
    "cv2.destroyAllWindows()"
   ]
  },
  {
   "cell_type": "code",
   "execution_count": 24,
   "id": "94c01237",
   "metadata": {},
   "outputs": [],
   "source": [
    "while True:\n",
    "    ret, image = video.read()\n",
    "    if not ret: break\n",
    "    frame = imutils.resize(image, width=600)\n",
    "    (succes, box) = tracker.update(image)\n",
    "    \n",
    "    if succes:\n",
    "        (x, y, w, h) = [int(i) for i in box]\n",
    "        cv2.rectangle(image, (x, y), (x+w, y+h), (100, 0, 255), 2)\n",
    "        \n",
    "        \n",
    "    cv2.imshow('image', image)\n",
    "    if cv2.waitKey(1) == ord('o'):\n",
    "        break\n",
    "        \n",
    "cv2.destroyAllWindows()\n",
    "video.release()"
   ]
  }
 ],
 "metadata": {
  "kernelspec": {
   "display_name": "Python 3 (ipykernel)",
   "language": "python",
   "name": "python3"
  },
  "language_info": {
   "codemirror_mode": {
    "name": "ipython",
    "version": 3
   },
   "file_extension": ".py",
   "mimetype": "text/x-python",
   "name": "python",
   "nbconvert_exporter": "python",
   "pygments_lexer": "ipython3",
   "version": "3.10.9"
  }
 },
 "nbformat": 4,
 "nbformat_minor": 5
}
