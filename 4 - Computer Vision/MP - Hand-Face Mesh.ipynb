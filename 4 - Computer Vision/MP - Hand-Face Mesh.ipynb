{
 "cells": [
  {
   "cell_type": "code",
   "execution_count": null,
   "id": "b954e2c9",
   "metadata": {},
   "outputs": [],
   "source": [
    "import cv2\n",
    "import mediapipe as mp"
   ]
  },
  {
   "cell_type": "code",
   "execution_count": null,
   "id": "35996eee",
   "metadata": {},
   "outputs": [],
   "source": [
    "video = cv2.VideoCapture(0)\n",
    "\n",
    "# Hand Landmark\n",
    "mp_hand = mp.solutions.hands\n",
    "hands = mp_hand.Hands()\n",
    "hand_draw = mp.solutions.drawing_utils\n",
    "\n",
    "# Face Landmark\n",
    "mp_face = mp.solutions.face_mesh\n",
    "faces = mp_face.FaceMesh()\n",
    "face_draw = mp.solutions.drawing_utils\n",
    "draw_spec = face_draw.DrawingSpec(thickness=2, circle_radius=1)"
   ]
  },
  {
   "cell_type": "code",
   "execution_count": null,
   "id": "b5147575",
   "metadata": {},
   "outputs": [],
   "source": [
    "while True:\n",
    "    _, frame = video.read()\n",
    "    # frame = cv2.cvtColor(frame, cv2.COLOR_BGR2RGB)\n",
    "\n",
    "    result = hands.process(frame)\n",
    "    facees = faces.process(frame)\n",
    "\n",
    "\n",
    "    if result.multi_hand_landmarks is not None:\n",
    "        for hand in result.multi_hand_landmarks:\n",
    "            hand_draw.draw_landmarks(frame, hand, mp_hand.HAND_CONNECTIONS)\n",
    "\n",
    "\n",
    "    if facees.multi_face_landmarks is not None:\n",
    "        for face in facees.multi_face_landmarks:\n",
    "            # print(face.landmark[0])\n",
    "            face_draw.draw_landmarks(frame, face, mp_face.FACEMESH_CONTOURS, draw_spec, draw_spec)\n",
    "\n",
    "    cv2.imshow(\"video\", frame)\n",
    "    if cv2.waitKey(1) & 0xff == ord(\"o\"):\n",
    "        break\n",
    "        \n",
    "video.release()\n",
    "cv2.destroyAllWindows()"
   ]
  }
 ],
 "metadata": {
  "kernelspec": {
   "display_name": "Python 3 (ipykernel)",
   "language": "python",
   "name": "python3"
  },
  "language_info": {
   "codemirror_mode": {
    "name": "ipython",
    "version": 3
   },
   "file_extension": ".py",
   "mimetype": "text/x-python",
   "name": "python",
   "nbconvert_exporter": "python",
   "pygments_lexer": "ipython3",
   "version": "3.10.9"
  }
 },
 "nbformat": 4,
 "nbformat_minor": 5
}
