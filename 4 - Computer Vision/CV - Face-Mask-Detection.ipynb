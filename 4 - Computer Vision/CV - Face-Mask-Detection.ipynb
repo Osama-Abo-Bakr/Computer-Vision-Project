{
 "cells": [
  {
   "cell_type": "code",
   "execution_count": null,
   "id": "fecccbaf",
   "metadata": {},
   "outputs": [],
   "source": [
    "import pickle\n",
    "import cv2\n",
    "import numpy as np"
   ]
  },
  {
   "cell_type": "code",
   "execution_count": null,
   "id": "737e60f1",
   "metadata": {},
   "outputs": [],
   "source": [
    "model_mask = pickle.load(open(r\"D:\\Pycharm\\model_pickle\\DL - Models\\Mask_detection.bin\", \"rb\"))\n",
    "name_label = [\"Without Mask\", \"With Mask\"]\n",
    "\n",
    "video = cv2.VideoCapture(0)\n",
    "\n",
    "face_detection = cv2.CascadeClassifier(\"D:\\Pycharm\\Computer Vision\\haar cascade files-20230720T005324Z-001\\haarcascade_frontalface_default.xml\")"
   ]
  },
  {
   "cell_type": "code",
   "execution_count": null,
   "id": "fd157d08",
   "metadata": {},
   "outputs": [],
   "source": [
    "\n",
    "while True:\n",
    "    _, image = video.read()\n",
    "\n",
    "    face = face_detection.detectMultiScale(image)\n",
    "\n",
    "    for (x, y, w, h) in face:\n",
    "        face_only = image[y:y + h, x:x + w]\n",
    "        cv2.rectangle(image, (x, y), (x + w, y + h), (0, 255, 0), 2)\n",
    "\n",
    "        image_pre_new = cv2.resize(face_only, (200, 200))\n",
    "        image_pre_new = np.reshape(image_pre_new, [1, 200, 200, 3])\n",
    "        prediction = model_mask.predict(image_pre_new)\n",
    "\n",
    "        # print(prediction[0])\n",
    "        pre = np.max(prediction[0])\n",
    "        new_prediction = name_label[np.argmax(prediction[0])]\n",
    "        print(\"The Prediction is ==> \", new_prediction)\n",
    "\n",
    "        cv2.putText(image, f\"{new_prediction}\", (x-100, y), cv2.FONT_ITALIC, 0.8, (100, 50, 255), 2)\n",
    "\n",
    "\n",
    "\n",
    "\n",
    "    cv2.imshow(\"image\", image)\n",
    "\n",
    "    if cv2.waitKey(1) & 0xff == ord(\"o\"):\n",
    "        break\n",
    "\n",
    "video.release()\n",
    "cv2.destroyAllWindows()"
   ]
  },
  {
   "cell_type": "code",
   "execution_count": null,
   "id": "f1ba83ce",
   "metadata": {},
   "outputs": [],
   "source": []
  }
 ],
 "metadata": {
  "kernelspec": {
   "display_name": "Python 3 (ipykernel)",
   "language": "python",
   "name": "python3"
  },
  "language_info": {
   "codemirror_mode": {
    "name": "ipython",
    "version": 3
   },
   "file_extension": ".py",
   "mimetype": "text/x-python",
   "name": "python",
   "nbconvert_exporter": "python",
   "pygments_lexer": "ipython3",
   "version": "3.10.9"
  }
 },
 "nbformat": 4,
 "nbformat_minor": 5
}
