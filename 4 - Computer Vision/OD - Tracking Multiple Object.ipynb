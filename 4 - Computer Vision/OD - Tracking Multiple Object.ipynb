{
 "cells": [
  {
   "cell_type": "code",
   "execution_count": 7,
   "id": "f5c6be14",
   "metadata": {},
   "outputs": [],
   "source": [
    "import cv2\n",
    "import imutils"
   ]
  },
  {
   "cell_type": "code",
   "execution_count": 8,
   "id": "caa8d0ae",
   "metadata": {},
   "outputs": [
    {
     "name": "stdout",
     "output_type": "stream",
     "text": [
      "3.4.18\n"
     ]
    }
   ],
   "source": [
    "print(cv2.__version__)"
   ]
  },
  {
   "cell_type": "code",
   "execution_count": 2,
   "id": "5538ddd5",
   "metadata": {},
   "outputs": [],
   "source": [
    "tracking_method = {\n",
    "    'csrf': cv2.TrackerCSRT_create,\n",
    "    'kcf': cv2.TrackerKCF_create,\n",
    "    'mil': cv2.TrackerMIL_create,\n",
    "    'boosting': cv2.TrackerBoosting_create\n",
    "\n",
    "}"
   ]
  },
  {
   "cell_type": "code",
   "execution_count": 3,
   "id": "70d097ca",
   "metadata": {},
   "outputs": [],
   "source": [
    "trackers = cv2.MultiTracker_create()\n",
    "video = cv2.VideoCapture(r'C:\\Users\\osama\\OneDrive\\Desktop\\Moahmmed Upwork\\video.mp4')"
   ]
  },
  {
   "cell_type": "code",
   "execution_count": 4,
   "id": "daf97e66",
   "metadata": {},
   "outputs": [],
   "source": [
    "ret, image = video.read()\n",
    "image = cv2.resize(image,  (800, 600))"
   ]
  },
  {
   "cell_type": "code",
   "execution_count": 5,
   "id": "e8a0b521",
   "metadata": {},
   "outputs": [],
   "source": [
    "k=2\n",
    "\n",
    "for i in range(k):\n",
    "    cv2.imshow('image', image)\n",
    "    bb = cv2.selectROI('image', image)\n",
    "    track_i = tracking_method['csrf']()\n",
    "    trackers.add(track_i, image, bb)\n",
    "    \n",
    "cv2.waitKey(0)\n",
    "cv2.destroyAllWindows()"
   ]
  },
  {
   "cell_type": "code",
   "execution_count": 6,
   "id": "0f0b5b6d",
   "metadata": {},
   "outputs": [],
   "source": [
    "while True:\n",
    "    ret, image = video.read()\n",
    "    image = cv2.resize(image,  (800, 600))\n",
    "    if not ret: break\n",
    "        \n",
    "    (success, boxes) = trackers.update(image)\n",
    "    \n",
    "    for box in boxes:\n",
    "        (x, y, w, h) = [int(u) for u in box]\n",
    "        cv2.rectangle(image, (x, y), (x+w, y+h), (100, 0, 255), 2)\n",
    "        \n",
    "        \n",
    "    cv2.imshow('image', image)\n",
    "    if cv2.waitKey(1) == ord('o'):\n",
    "        break\n",
    "        \n",
    "cv2.destroyAllWindows()\n",
    "video.release()"
   ]
  }
 ],
 "metadata": {
  "kernelspec": {
   "display_name": "Python 3 (ipykernel)",
   "language": "python",
   "name": "python3"
  },
  "language_info": {
   "codemirror_mode": {
    "name": "ipython",
    "version": 3
   },
   "file_extension": ".py",
   "mimetype": "text/x-python",
   "name": "python",
   "nbconvert_exporter": "python",
   "pygments_lexer": "ipython3",
   "version": "3.10.9"
  }
 },
 "nbformat": 4,
 "nbformat_minor": 5
}
