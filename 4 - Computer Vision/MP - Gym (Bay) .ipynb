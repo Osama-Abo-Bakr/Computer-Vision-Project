{
 "cells": [
  {
   "cell_type": "code",
   "execution_count": 1,
   "id": "747642dd",
   "metadata": {},
   "outputs": [],
   "source": [
    "import cv2\n",
    "import numpy as np\n",
    "import mediapipe as mp"
   ]
  },
  {
   "cell_type": "code",
   "execution_count": 2,
   "id": "adde8cfc",
   "metadata": {},
   "outputs": [],
   "source": [
    "mp_pose = mp.solutions.pose\n",
    "mp_draw = mp.solutions.drawing_utils\n",
    "pose = mp_pose.Pose(min_detection_confidence=0.5, min_tracking_confidence=0.5)\n",
    "\n",
    "video = cv2.VideoCapture(0)"
   ]
  },
  {
   "cell_type": "code",
   "execution_count": 3,
   "id": "6160399f",
   "metadata": {},
   "outputs": [],
   "source": [
    "def get_angle(x, y, z):\n",
    "    x = np.array(x)\n",
    "    y = np.array(y)\n",
    "    z = np.array(z)\n",
    "\n",
    "    radians = np.arctan2(z[1] - y[1], z[0] - y[0]) - np.arctan2(x[1] - y[1], x[0] - y[0])\n",
    "    angle = np.abs((radians * 180) / np.pi)\n",
    "\n",
    "    if angle > 180.0:\n",
    "        angle = 360 - angle\n",
    "\n",
    "    return angle\n",
    "\n",
    "\n",
    "counter_l = 0\n",
    "counter_r = 0\n",
    "\n",
    "stage_l = None\n",
    "stage_r = None"
   ]
  },
  {
   "cell_type": "code",
   "execution_count": 4,
   "id": "9cb761c8",
   "metadata": {},
   "outputs": [
    {
     "name": "stderr",
     "output_type": "stream",
     "text": [
      "C:\\Users\\osama\\anaconda3\\lib\\site-packages\\google\\protobuf\\symbol_database.py:55: UserWarning: SymbolDatabase.GetPrototype() is deprecated. Please use message_factory.GetMessageClass() instead. SymbolDatabase.GetPrototype() will be removed soon.\n",
      "  warnings.warn('SymbolDatabase.GetPrototype() is deprecated. Please '\n"
     ]
    },
    {
     "name": "stdout",
     "output_type": "stream",
     "text": [
      "1\n",
      "2\n",
      "3\n",
      "1\n",
      "4\n",
      "5\n",
      "6\n",
      "7\n",
      "8\n",
      "9\n",
      "10\n",
      "11\n",
      "12\n"
     ]
    }
   ],
   "source": [
    "while True:\n",
    "    _, image = video.read()\n",
    "    image = cv2.resize(image, (600, 600))\n",
    "    result = pose.process(image)\n",
    "\n",
    "    try:\n",
    "        landmarks = result.pose_landmarks.landmark\n",
    "\n",
    "    ################################### Left Hand #######################################################\n",
    "\n",
    "        shoulder_l = [landmarks[mp_pose.PoseLandmark.LEFT_SHOULDER.value].x,\n",
    "                      landmarks[mp_pose.PoseLandmark.LEFT_SHOULDER.value].y]\n",
    "\n",
    "        Elbow_l = [landmarks[mp_pose.PoseLandmark.LEFT_ELBOW.value].x,\n",
    "                 landmarks[mp_pose.PoseLandmark.LEFT_ELBOW.value].y]\n",
    "\n",
    "        wrist_l = [landmarks[mp_pose.PoseLandmark.LEFT_WRIST.value].x,\n",
    "                 landmarks[mp_pose.PoseLandmark.LEFT_WRIST.value].y]\n",
    "\n",
    "        angle_l = get_angle(shoulder_l, Elbow_l, wrist_l)\n",
    "\n",
    "        cv2.putText(image, str(round(angle_l, 3)), tuple(np.multiply(Elbow_l, [600, 600]).astype(\"int\")),\n",
    "                    cv2.FONT_ITALIC, 0.5, (255, 255, 255), 2, cv2.LINE_AA)\n",
    "\n",
    "        if angle_l > 160: stage_l = \"Down\"\n",
    "        if angle_l < 45 and stage_l == \"Down\":\n",
    "            stage_l = \"Up\"\n",
    "            counter_l += 1\n",
    "            print(counter_l)\n",
    "\n",
    "        cv2.rectangle(image, (0, 0), (190, 73), (245, 117, 16), -1)\n",
    "\n",
    "        cv2.putText(image, \"REPS_L\", (15, 16), cv2.FONT_HERSHEY_SIMPLEX,\n",
    "                    0.5, (0, 0, 0), 2, cv2.LINE_AA)\n",
    "\n",
    "        cv2.putText(image, str(counter_l), (10, 60), cv2.FONT_HERSHEY_SIMPLEX,\n",
    "                    2, (255, 255, 255), 2, cv2.LINE_AA)\n",
    "\n",
    "    ########################################### Right Hand #########################################\n",
    "\n",
    "        shoulder_r = [landmarks[mp_pose.PoseLandmark.RIGHT_SHOULDER.value].x,\n",
    "                      landmarks[mp_pose.PoseLandmark.RIGHT_SHOULDER.value].y]\n",
    "\n",
    "        Elbow_r = [landmarks[mp_pose.PoseLandmark.RIGHT_ELBOW.value].x,\n",
    "                   landmarks[mp_pose.PoseLandmark.RIGHT_ELBOW.value].y]\n",
    "\n",
    "        wrist_r = [landmarks[mp_pose.PoseLandmark.RIGHT_WRIST.value].x,\n",
    "                   landmarks[mp_pose.PoseLandmark.RIGHT_WRIST.value].y]\n",
    "\n",
    "        angle_r = get_angle(shoulder_r, Elbow_r, wrist_r)\n",
    "\n",
    "        cv2.putText(image, str(round(angle_r, 3)), tuple(np.multiply(Elbow_r, [600, 600]).astype(\"int\")),\n",
    "                    cv2.FONT_ITALIC, 0.5, (255, 255, 255), 2, cv2.LINE_AA)\n",
    "\n",
    "        if angle_r > 160: stage_r = \"Down\"\n",
    "        if angle_r < 45 and stage_r == \"Down\":\n",
    "            stage_r = \"Up\"\n",
    "            counter_r += 1\n",
    "            print(counter_r)\n",
    "\n",
    "        cv2.rectangle(image, (600, 0), (600-190, 73), (245, 117, 16), -1)\n",
    "\n",
    "        cv2.putText(image, \"REPS_R\", (530, 16), cv2.FONT_HERSHEY_SIMPLEX,\n",
    "                    0.5, (0, 0, 0), 2, cv2.LINE_AA)\n",
    "\n",
    "        cv2.putText(image, str(counter_r), (520, 60), cv2.FONT_HERSHEY_SIMPLEX,\n",
    "                    2, (255, 255, 255), 2, cv2.LINE_AA)\n",
    "\n",
    "\n",
    "\n",
    "    except: pass\n",
    "\n",
    "    mp_draw.draw_landmarks(image, result.pose_landmarks, mp_pose.POSE_CONNECTIONS,\n",
    "                           mp_draw.DrawingSpec((255, 0, 0), 2, 2),\n",
    "                           mp_draw.DrawingSpec((150, 0, 150), 2, 2))\n",
    "\n",
    "    cv2.imshow(\"image\", image)\n",
    "\n",
    "    if cv2.waitKey(1) & 0xff == ord(\"o\"): break\n",
    "\n",
    "cv2.destroyAllWindows()\n",
    "video.release()"
   ]
  },
  {
   "cell_type": "code",
   "execution_count": null,
   "id": "4f80e9b8",
   "metadata": {},
   "outputs": [],
   "source": []
  }
 ],
 "metadata": {
  "kernelspec": {
   "display_name": "Python 3 (ipykernel)",
   "language": "python",
   "name": "python3"
  },
  "language_info": {
   "codemirror_mode": {
    "name": "ipython",
    "version": 3
   },
   "file_extension": ".py",
   "mimetype": "text/x-python",
   "name": "python",
   "nbconvert_exporter": "python",
   "pygments_lexer": "ipython3",
   "version": "3.10.9"
  }
 },
 "nbformat": 4,
 "nbformat_minor": 5
}
