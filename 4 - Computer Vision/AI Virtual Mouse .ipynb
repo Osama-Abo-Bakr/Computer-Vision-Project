{
 "cells": [
  {
   "cell_type": "code",
   "execution_count": 1,
   "id": "7e1241ca",
   "metadata": {},
   "outputs": [
    {
     "ename": "ModuleNotFoundError",
     "evalue": "No module named 'autopy'",
     "output_type": "error",
     "traceback": [
      "\u001b[1;31m---------------------------------------------------------------------------\u001b[0m",
      "\u001b[1;31mModuleNotFoundError\u001b[0m                       Traceback (most recent call last)",
      "Cell \u001b[1;32mIn[1], line 4\u001b[0m\n\u001b[0;32m      2\u001b[0m \u001b[38;5;28;01mimport\u001b[39;00m \u001b[38;5;21;01mnumpy\u001b[39;00m \u001b[38;5;28;01mas\u001b[39;00m \u001b[38;5;21;01mnp\u001b[39;00m\n\u001b[0;32m      3\u001b[0m \u001b[38;5;28;01mimport\u001b[39;00m \u001b[38;5;21;01mmediapipe\u001b[39;00m \u001b[38;5;28;01mas\u001b[39;00m \u001b[38;5;21;01mmp\u001b[39;00m\n\u001b[1;32m----> 4\u001b[0m \u001b[38;5;28;01mimport\u001b[39;00m \u001b[38;5;21;01mautopy\u001b[39;00m\n",
      "\u001b[1;31mModuleNotFoundError\u001b[0m: No module named 'autopy'"
     ]
    }
   ],
   "source": [
    "import cv2\n",
    "import numpy as np\n",
    "import mediapipe as mp\n",
    "import autopy"
   ]
  },
  {
   "cell_type": "code",
   "execution_count": null,
   "id": "53dbfa9a",
   "metadata": {},
   "outputs": [],
   "source": [
    "mp_hands = mp.solutions.hands\n",
    "hands = mp_hands.Hands()\n",
    "mp_draw = mp.solutions.drawing_utils\n",
    "\n",
    "# wScr, hScr = autopy.screen.size()\n",
    "pX, pY = 0, 0\n",
    "cX, cY = 0, 0\n",
    "\n",
    "\n",
    "video = cv2.VideoCapture(0)"
   ]
  },
  {
   "cell_type": "code",
   "execution_count": null,
   "id": "e8fa7834",
   "metadata": {},
   "outputs": [],
   "source": [
    "def landmarks(imagecolor):\n",
    "    landmark_list = []\n",
    "    landmarkPosition = hands.process(imagecolor)\n",
    "    landmark_check = landmarkPosition.multi_hand_landmarks\n",
    "    if landmark_check:\n",
    "        for hand in landmark_check:\n",
    "            for index, landmark in enumerate(hand.landmark):\n",
    "                mp_draw.draw_landmarks(image, hand, mp_hands.HAND_CONNECTIONS)\n",
    "                h, w, c = image.shape\n",
    "                centerX, centerY = int(landmark.x * w), int(landmark.y * h)\n",
    "                landmark_list.append([index, centerX, centerY])\n",
    "\n",
    "    return landmark_list\n",
    "\n",
    "\n",
    "def fingers(landmarks):\n",
    "    fingerTips = []\n",
    "    tips_id = [4, 8, 12, 16, 20]\n",
    "\n",
    "    if landmarks[tips_id[0]][1] > landmarks[tips_id[0] - 1][1]:fingerTips.append(1)\n",
    "    else: fingerTips.append(0)\n",
    "\n",
    "    for id in range(1, 5):\n",
    "        if landmarks[tips_id[id]][2] < landmarks[tips_id[id] - 3][2]:fingerTips.append(1)\n",
    "        else: fingerTips.append(0)\n",
    "\n",
    "    return fingerTips"
   ]
  },
  {
   "cell_type": "code",
   "execution_count": null,
   "id": "76005ca8",
   "metadata": {},
   "outputs": [],
   "source": [
    "\n",
    "while True:\n",
    "    _, image = video.read()\n",
    "    image_rgb = cv2.cvtColor(image, cv2.COLOR_BGR2RGB)\n",
    "    landmark = landmarks(image_rgb)\n",
    "\n",
    "    # print(landmark)\n",
    "\n",
    "    if len(landmark) != 0:\n",
    "        x1, y1 = landmark[8][1:]\n",
    "        x2, y2 = landmark[12][1:]\n",
    "\n",
    "        finger = fingers(landmark)\n",
    "        print(finger)\n",
    "\n",
    "        if finger[1] == 1 and finger[2] == 0:\n",
    "            x3 = np.interp(x1, (0, 640), (0, wScr))\n",
    "            y3 = np.interp(x1, (0, 640), (0, hScr))\n",
    "\n",
    "            cX = pX + (x3 - pX) / 10\n",
    "            cY = pY + (y3 - pY) / 10\n",
    "\n",
    "            autopy.mouse.move(wScr-cX, cY)\n",
    "            pX, pY = cX, cY\n",
    "\n",
    "\n",
    "        if finger[0] == 1 and finger[1] == 0:\n",
    "            autopy.mouse.click()\n",
    "\n",
    "\n",
    "\n",
    "    cv2.imshow(\"image\", image)\n",
    "    if cv2.waitKey(1) == ord(\"o\"): break\n",
    "\n",
    "\n",
    "\n",
    "video.release()\n",
    "cv2.destroyAllWindows()"
   ]
  },
  {
   "cell_type": "code",
   "execution_count": null,
   "id": "8bd67bbd",
   "metadata": {},
   "outputs": [],
   "source": []
  }
 ],
 "metadata": {
  "kernelspec": {
   "display_name": "Python 3 (ipykernel)",
   "language": "python",
   "name": "python3"
  },
  "language_info": {
   "codemirror_mode": {
    "name": "ipython",
    "version": 3
   },
   "file_extension": ".py",
   "mimetype": "text/x-python",
   "name": "python",
   "nbconvert_exporter": "python",
   "pygments_lexer": "ipython3",
   "version": "3.10.9"
  }
 },
 "nbformat": 4,
 "nbformat_minor": 5
}
